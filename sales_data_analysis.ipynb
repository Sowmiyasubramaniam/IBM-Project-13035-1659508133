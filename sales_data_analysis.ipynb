{
  "nbformat": 4,
  "nbformat_minor": 0,
  "metadata": {
    "colab": {
      "provenance": [],
      "authorship_tag": "ABX9TyNGfmvjsKXG9EBs6k2hbWPK",
      "include_colab_link": true
    },
    "kernelspec": {
      "name": "python3",
      "display_name": "Python 3"
    },
    "language_info": {
      "name": "python"
    }
  },
  "cells": [
    {
      "cell_type": "markdown",
      "metadata": {
        "id": "view-in-github",
        "colab_type": "text"
      },
      "source": [
        "<a href=\"https://colab.research.google.com/github/Sowmiyasubramaniam/IBM-Project-13035-1659508133/blob/main/sales_data_analysis.ipynb\" target=\"_parent\"><img src=\"https://colab.research.google.com/assets/colab-badge.svg\" alt=\"Open In Colab\"/></a>"
      ]
    },
    {
      "cell_type": "markdown",
      "source": [
        "Sales Analysis"
      ],
      "metadata": {
        "id": "oqFQVJeqZz7_"
      }
    },
    {
      "cell_type": "markdown",
      "source": [
        "Analysing the sales using sample sales dataset\n",
        "\n",
        "---\n",
        "\n"
      ],
      "metadata": {
        "id": "bGsRKnGSaWUY"
      }
    },
    {
      "cell_type": "markdown",
      "source": [
        "Data science Languages:\n",
        "Python\n",
        "R\n",
        "SQL"
      ],
      "metadata": {
        "id": "PCLUBygWbBmA"
      }
    },
    {
      "cell_type": "markdown",
      "source": [
        "Data Science Libraries:\n",
        "1. Seaborn\n",
        "2. matplotlib\n",
        "3. Numpy\n",
        "4. Pandas\n",
        "5. Tensorflow\n"
      ],
      "metadata": {
        "id": "VW0VpCq2bgjo"
      }
    },
    {
      "cell_type": "markdown",
      "source": [],
      "metadata": {
        "id": "ZFAhNI6bdEpl"
      }
    },
    {
      "cell_type": "markdown",
      "source": [
        "Data science Tools:\n",
        "\n",
        "\n",
        "---\n",
        "1.  Jupyter Notebook\n",
        "\n",
        "\n",
        "---\n",
        "\n",
        "2. Google colab\n",
        "\n",
        "\n",
        "---\n",
        "3. Kaggle\n",
        "\n",
        "\n",
        "---\n",
        "\n",
        "\n",
        "\n"
      ],
      "metadata": {
        "id": "hiIt5djcclpg"
      }
    },
    {
      "cell_type": "markdown",
      "source": [
        "Arithmetice expressions:\n",
        "1. 2+3=5\n",
        "2. 3-2=1\n",
        "3. 3*2=6\n",
        "4. 3/2=1.5\n",
        "\n"
      ],
      "metadata": {
        "id": "tWLAnja-dntN"
      }
    },
    {
      "cell_type": "code",
      "source": [
        "a=2\n",
        "b=3\n",
        "c=a+b\n",
        "d=a*b\n",
        "print(c)\n",
        "print(d)"
      ],
      "metadata": {
        "colab": {
          "base_uri": "https://localhost:8080/"
        },
        "id": "rlyE2YkJepsI",
        "outputId": "2a7da4bc-c3fb-4734-eb75-1706a1b0d49b"
      },
      "execution_count": 3,
      "outputs": [
        {
          "output_type": "stream",
          "name": "stdout",
          "text": [
            "5\n",
            "6\n"
          ]
        }
      ]
    },
    {
      "cell_type": "code",
      "source": [
        "mins=120\n",
        "ans=mins/60\n",
        "print(ans)"
      ],
      "metadata": {
        "colab": {
          "base_uri": "https://localhost:8080/"
        },
        "id": "gkvJdOuWgbhc",
        "outputId": "24c733dc-452e-4362-f832-766268061922"
      },
      "execution_count": 4,
      "outputs": [
        {
          "output_type": "stream",
          "name": "stdout",
          "text": [
            "2.0\n"
          ]
        }
      ]
    },
    {
      "cell_type": "markdown",
      "source": [],
      "metadata": {
        "id": "oCkik5D0naou"
      }
    },
    {
      "cell_type": "markdown",
      "source": [
        "\n",
        "\n",
        "*   Understand your data quality\n",
        "*  Find patterns and insights\n",
        "\n",
        "*   Spot problems like imbalance, outliers, wrong data types\n",
        "\n",
        "* Prepare your dataset for feature selection and modeling\n",
        "\n"
      ],
      "metadata": {
        "id": "lhD2mAGLmCEl"
      }
    },
    {
      "cell_type": "markdown",
      "source": [
        "Sowmiya\n"
      ],
      "metadata": {
        "id": "-vgD8CNHn7d6"
      }
    },
    {
      "cell_type": "code",
      "source": [],
      "metadata": {
        "id": "wJa481aFn6wn"
      },
      "execution_count": null,
      "outputs": []
    },
    {
      "cell_type": "code",
      "execution_count": null,
      "metadata": {
        "colab": {
          "base_uri": "https://localhost:8080/"
        },
        "id": "Q7-m88fITqtO",
        "outputId": "eb1ba4c0-7900-4741-97ca-603d729d1aac"
      },
      "outputs": [
        {
          "output_type": "stream",
          "name": "stdout",
          "text": [
            "                      Date    Revenue\n",
            "count                   10   10.00000\n",
            "mean   2023-01-05 12:00:00  154.00000\n",
            "min    2023-01-01 00:00:00  100.00000\n",
            "25%    2023-01-03 06:00:00  132.50000\n",
            "50%    2023-01-05 12:00:00  155.00000\n",
            "75%    2023-01-07 18:00:00  177.50000\n",
            "max    2023-01-10 00:00:00  200.00000\n",
            "std                    NaN   32.04164\n",
            "Product\n",
            "A    490\n",
            "B    520\n",
            "C    530\n",
            "Name: Revenue, dtype: int64\n",
            "Region\n",
            "East     320\n",
            "North    460\n",
            "South    470\n",
            "West     290\n",
            "Name: Revenue, dtype: int64\n"
          ]
        }
      ],
      "source": [
        "import pandas as pd\n",
        "data = {\n",
        "    'Date': pd.date_range(start='2023-01-01', periods=10, freq='D'),\n",
        "    'Region': ['North', 'South', 'East', 'West', 'North', 'South', 'East', 'West', 'North', 'South'],\n",
        "    'Product': ['A', 'B', 'C', 'A', 'C', 'B', 'A', 'C', 'B', 'A'],\n",
        "    'Revenue': [100, 150, 200, 130, 170, 180, 120, 160, 190, 140]\n",
        "}\n",
        "df = pd.DataFrame(data)\n",
        "df.head()\n",
        "\n",
        "#basic analysis\n",
        "print(df.describe())\n",
        "print(df.groupby('Product')['Revenue'].sum())\n",
        "print(df.groupby('Region')['Revenue'].sum())"
      ]
    },
    {
      "cell_type": "code",
      "source": [
        "import matplotlib.pyplot as plt\n",
        "import seaborn as sns\n",
        "\n",
        "sns.barplot(x='Product', y='Revenue', data=df)\n",
        "plt.title('Revenue by Product')\n",
        "plt.show()\n"
      ],
      "metadata": {
        "colab": {
          "base_uri": "https://localhost:8080/",
          "height": 472
        },
        "id": "06ia0PZQUMQt",
        "outputId": "f5df623f-ed66-48af-94b6-0bbcde985eee"
      },
      "execution_count": null,
      "outputs": [
        {
          "output_type": "display_data",
          "data": {
            "text/plain": [
              "<Figure size 640x480 with 1 Axes>"
            ],
            "image/png": "[encoded data removed]"
          },
          "metadata": {}
        }
      ]
    },
    {
      "cell_type": "code",
      "source": [
        "sns.barplot(x='Region', y='Revenue', data=df)\n",
        "plt.title('Revenue by Region')\n",
        "plt.show()"
      ],
      "metadata": {
        "colab": {
          "base_uri": "https://localhost:8080/",
          "height": 472
        },
        "id": "RHZE6DXKYBkE",
        "outputId": "020cb770-6b0f-454b-9099-3a48c78032b6"
      },
      "execution_count": null,
      "outputs": [
        {
          "output_type": "display_data",
          "data": {
            "text/plain": [
              "<Figure size 640x480 with 1 Axes>"
            ],
            "image/png": "[encoded data removed]"
          },
          "metadata": {}
        }
      ]
    },
    {
      "cell_type": "markdown",
      "source": [
        "**Insights:**\n",
        "- Product B generates the most revenue overall.\n",
        "- The South region is the top-performing region."
      ],
      "metadata": {
        "id": "s7oVLDPJqyv2"
      }
    }
  ]
}